{
 "cells": [
  {
   "cell_type": "markdown",
   "id": "9969a5f0",
   "metadata": {},
   "source": [
    "# Project: Skin Cancer Detection\n",
    "\n",
    "This is the main notebook that we will present"
   ]
  },
  {
   "cell_type": "code",
   "execution_count": null,
   "id": "f2fbdc76",
   "metadata": {},
   "outputs": [],
   "source": [
    "# Introduction\n",
    "Skin cancer is one of the most common forms of cancer. In this project, you'll build a simple image classification model that can help differentiate between benign (non-cancerous) and malignant (cancerous) skin lesions. You'll work with sample image data, train a CNN (Convolutional Neural Network), and evaluate the model. This is an example of how AI can help in healthcare.\n",
    "\n",
    "Make sure you understand the steps and try modifying parts of the code to see how it affects results!"
   ]
  },
  {
   "cell_type": "code",
   "execution_count": null,
   "id": "14810dee",
   "metadata": {},
   "outputs": [],
   "source": [
    "# Step 1: Import Libraries\n",
    "import tensorflow as tf\n",
    "from tensorflow.keras.models import Sequential\n",
    "from tensorflow.keras.layers import Conv2D, MaxPooling2D, Flatten, Dense\n",
    "from tensorflow.keras.datasets import cifar10\n",
    "import matplotlib.pyplot as plt\n",
    "import numpy as np"
   ]
  },
  {
   "cell_type": "code",
   "execution_count": null,
   "id": "1168da1f",
   "metadata": {},
   "outputs": [],
   "source": [
    "# Step 2: Load and Prepare Sample Data\n",
    "# We will use CIFAR-10 data for demonstration. This dataset has 10 classes, but we'll simplify it to binary for now.\n",
    "(x_train, y_train), (x_test, y_test) = cifar10.load_data()\n",
    "# Let's say class 0 = benign, class 1 = malignant (not accurate but illustrative)\n",
    "x_train_binary = x_train[(y_train == 0) | (y_train == 1)].astype('float32') / 255.0\n",
    "y_train_binary = y_train[(y_train == 0) | (y_train == 1)]\n",
    "x_test_binary = x_test[(y_test == 0) | (y_test == 1)].astype('float32') / 255.0\n",
    "y_test_binary = y_test[(y_test == 0) | (y_test == 1)]"
   ]
  },
  {
   "cell_type": "code",
   "execution_count": null,
   "id": "a9e890b3",
   "metadata": {},
   "outputs": [],
   "source": [
    "# Step 3: Build a CNN Model\n",
    "model = Sequential([\n",
    "    Conv2D(32, (3, 3), activation='relu', input_shape=(32, 32, 3)),\n",
    "    MaxPooling2D((2, 2)),\n",
    "    Flatten(),\n",
    "    Dense(64, activation='relu'),\n",
    "    Dense(1, activation='sigmoid')\n",
    "])\n",
    "model.compile(optimizer='adam', loss='binary_crossentropy', metrics=['accuracy'])\n",
    "model.summary()"
   ]
  },
  {
   "cell_type": "code",
   "execution_count": null,
   "id": "6a159b65",
   "metadata": {},
   "outputs": [],
   "source": [
    "# Step 4: Train the Model\n",
    "model.fit(x_train_binary, y_train_binary, epochs=5, validation_data=(x_test_binary, y_test_binary))"
   ]
  },
  {
   "cell_type": "code",
   "execution_count": null,
   "id": "a6f7bd8e",
   "metadata": {},
   "outputs": [],
   "source": [
    "# Step 5: Evaluate the Model\n",
    "loss, acc = model.evaluate(x_test_binary, y_test_binary)\n",
    "print(f\"Test Accuracy: {acc * 100:.2f}%\")"
   ]
  },
  {
   "cell_type": "code",
   "execution_count": null,
   "id": "9153cc43",
   "metadata": {},
   "outputs": [],
   "source": [
    "# Step 6: Try Making Predictions\n",
    "index = 0  # you can change this\n",
    "img = x_test_binary[index]\n",
    "plt.imshow(img)\n",
    "plt.title('Test Image')\n",
    "plt.show()\n",
    "prediction = model.predict(np.expand_dims(img, axis=0))[0][0]\n",
    "print('Prediction (close to 0 = benign, close to 1 = malignant):', prediction)"
   ]
  }
 ],
 "metadata": {
  "language_info": {
   "name": "csharp"
  }
 },
 "nbformat": 4,
 "nbformat_minor": 5
}
