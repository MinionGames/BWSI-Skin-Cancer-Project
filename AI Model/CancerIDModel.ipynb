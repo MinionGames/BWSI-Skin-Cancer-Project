{
 "cells": [
  {
   "cell_type": "markdown",
   "metadata": {},
   "source": [
    "# Cancer Identifier Model\n",
    "\n",
    "This script will identify the type of skin cancer and determine whether the lesion is malignant or benign. It will take data processed by the CNN and other data. \n"
   ]
  }
 ],
 "metadata": {
  "language_info": {
   "name": "csharp"
  }
 },
 "nbformat": 4,
 "nbformat_minor": 2
}
